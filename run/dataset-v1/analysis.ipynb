{
 "cells": [
  {
   "cell_type": "code",
   "execution_count": 46,
   "metadata": {},
   "outputs": [],
   "source": [
    "import os\n",
    "import re"
   ]
  },
  {
   "cell_type": "code",
   "execution_count": 47,
   "metadata": {},
   "outputs": [],
   "source": [
    "trec_output_folder = \"trec/\""
   ]
  },
  {
   "cell_type": "code",
   "execution_count": 48,
   "metadata": {},
   "outputs": [],
   "source": [
    "files = os.listdir(trec_output_folder)\n",
    "files.sort()"
   ]
  },
  {
   "cell_type": "code",
   "execution_count": 49,
   "metadata": {},
   "outputs": [],
   "source": [
    "measurements = [\"ndcg_cut_5\", \"ndcg_cut_10\", \"map_cut_5\", \"map_cut_10\", \"ndcg\", \"map\" ,\"set_recall\"]\n",
    "\n",
    "def get_metrics(file_path: str)->dict:\n",
    "    d = dict()\n",
    "    with open(file_path) as f:\n",
    "        for line in f:\n",
    "            for m in measurements:\n",
    "                if re.match(f\"{m}\\s\", line):\n",
    "                    d[m] = line.split()[-1]\n",
    "    return d\n"
   ]
  },
  {
   "cell_type": "code",
   "execution_count": 50,
   "metadata": {},
   "outputs": [
    {
     "name": "stdout",
     "output_type": "stream",
     "text": [
      "BM25-EXTRACTED-ONLY-ALL-QUERIES-trec.txt          \t\tmap 0.1087\t ndcg 0.1979\t ndcg_cut_5 0.1306\t ndcg_cut_10 0.1431\t map_cut_5 0.0747\t map_cut_10 0.0906\t set_recall 0.3342\t\n",
      "BM25-EXTRACTED-ONLY-SYN-QUERIES-trec.txt          \t\tmap 0.1332\t ndcg 0.2420\t ndcg_cut_5 0.1650\t ndcg_cut_10 0.1825\t map_cut_5 0.0887\t map_cut_10 0.1101\t set_recall 0.3831\t\n",
      "BM25-EXTRACTED-ONLY-TREC-QUERIES-trec.txt         \t\tmap 0.0853\t ndcg 0.1556\t ndcg_cut_5 0.0977\t ndcg_cut_10 0.1055\t map_cut_5 0.0613\t map_cut_10 0.0719\t set_recall 0.2874\t\n",
      "BM25-META+EXTRACTED-ALL-QUERIES-trec.txt          \t\tmap 0.3736\t ndcg 0.5459\t ndcg_cut_5 0.3757\t ndcg_cut_10 0.4140\t map_cut_5 0.2087\t map_cut_10 0.2793\t set_recall 0.8370\t\n",
      "BM25-META+EXTRACTED-SYN-QUERIES-trec.txt          \t\tmap 0.4464\t ndcg 0.6231\t ndcg_cut_5 0.4676\t ndcg_cut_10 0.5030\t map_cut_5 0.2609\t map_cut_10 0.3438\t set_recall 0.8550\t\n",
      "BM25-META+EXTRACTED-TREC-QUERIES-trec.txt         \t\tmap 0.3040\t ndcg 0.4721\t ndcg_cut_5 0.2878\t ndcg_cut_10 0.3289\t map_cut_5 0.1588\t map_cut_10 0.2176\t set_recall 0.8197\t\n",
      "BM25-META-ONLY-ALL-QUERIES-trec.txt               \t\tmap 0.4682\t ndcg 0.6113\t ndcg_cut_5 0.5164\t ndcg_cut_10 0.5330\t map_cut_5 0.2925\t map_cut_10 0.3899\t set_recall 0.7919\t\n",
      "BM25-META-ONLY-SYN-QUERIES-trec.txt               \t\tmap 0.5333\t ndcg 0.6853\t ndcg_cut_5 0.6130\t ndcg_cut_10 0.6128\t map_cut_5 0.3434\t map_cut_10 0.4469\t set_recall 0.8280\t\n",
      "BM25-META-ONLY-TREC-QUERIES-trec.txt              \t\tmap 0.4035\t ndcg 0.5376\t ndcg_cut_5 0.4201\t ndcg_cut_10 0.4535\t map_cut_5 0.2417\t map_cut_10 0.3331\t set_recall 0.7560\t\n",
      "CS-EXTRACTED-ONLY-ALL-QUERIES-trec.txt            \t\tmap 0.1035\t ndcg 0.2032\t ndcg_cut_5 0.1304\t ndcg_cut_10 0.1384\t map_cut_5 0.0677\t map_cut_10 0.0802\t set_recall 0.3390\t\n",
      "CS-EXTRACTED-ONLY-SYN-QUERIES-trec.txt            \t\tmap 0.1244\t ndcg 0.2409\t ndcg_cut_5 0.1569\t ndcg_cut_10 0.1673\t map_cut_5 0.0816\t map_cut_10 0.0957\t set_recall 0.3805\t\n",
      "CS-EXTRACTED-ONLY-TREC-QUERIES-trec.txt           \t\tmap 0.0834\t ndcg 0.1671\t ndcg_cut_5 0.1050\t ndcg_cut_10 0.1108\t map_cut_5 0.0545\t map_cut_10 0.0655\t set_recall 0.2993\t\n",
      "CS-META+EXTRACTED-ALL-QUERIES-trec.txt            \t\tmap 0.4503\t ndcg 0.5950\t ndcg_cut_5 0.4756\t ndcg_cut_10 0.5042\t map_cut_5 0.2692\t map_cut_10 0.3669\t set_recall 0.8102\t\n",
      "CS-META+EXTRACTED-SYN-QUERIES-trec.txt            \t\tmap 0.5110\t ndcg 0.6668\t ndcg_cut_5 0.5625\t ndcg_cut_10 0.5750\t map_cut_5 0.3118\t map_cut_10 0.4139\t set_recall 0.8485\t\n",
      "CS-META+EXTRACTED-TREC-QUERIES-trec.txt           \t\tmap 0.3923\t ndcg 0.5263\t ndcg_cut_5 0.3925\t ndcg_cut_10 0.4364\t map_cut_5 0.2286\t map_cut_10 0.3219\t set_recall 0.7735\t\n",
      "CS-META-ONLY-ALL-QUERIES-trec.txt                 \t\tmap 0.4250\t ndcg 0.5655\t ndcg_cut_5 0.4694\t ndcg_cut_10 0.4839\t map_cut_5 0.2636\t map_cut_10 0.3507\t set_recall 0.7539\t\n",
      "CS-META-ONLY-SYN-QUERIES-trec.txt                 \t\tmap 0.4723\t ndcg 0.6269\t ndcg_cut_5 0.5408\t ndcg_cut_10 0.5443\t map_cut_5 0.2960\t map_cut_10 0.3869\t set_recall 0.7941\t\n",
      "CS-META-ONLY-TREC-QUERIES-trec.txt                \t\tmap 0.3780\t ndcg 0.5045\t ndcg_cut_5 0.3983\t ndcg_cut_10 0.4236\t map_cut_5 0.2314\t map_cut_10 0.3147\t set_recall 0.7138\t\n",
      "LMD-EXTRACTED-ONLY-ALL-QUERIES-trec.txt           \t\tmap 0.1228\t ndcg 0.2310\t ndcg_cut_5 0.1497\t ndcg_cut_10 0.1655\t map_cut_5 0.0801\t map_cut_10 0.0998\t set_recall 0.3915\t\n",
      "LMD-EXTRACTED-ONLY-SYN-QUERIES-trec.txt           \t\tmap 0.1585\t ndcg 0.2862\t ndcg_cut_5 0.2016\t ndcg_cut_10 0.2166\t map_cut_5 0.1056\t map_cut_10 0.1310\t set_recall 0.4438\t\n",
      "LMD-EXTRACTED-ONLY-TREC-QUERIES-trec.txt          \t\tmap 0.0886\t ndcg 0.1783\t ndcg_cut_5 0.1001\t ndcg_cut_10 0.1167\t map_cut_5 0.0556\t map_cut_10 0.0700\t set_recall 0.3416\t\n",
      "LMD-META+EXTRACTED-ALL-QUERIES-trec.txt           \t\tmap 0.2483\t ndcg 0.4169\t ndcg_cut_5 0.2715\t ndcg_cut_10 0.2982\t map_cut_5 0.1549\t map_cut_10 0.1926\t set_recall 0.6810\t\n",
      "LMD-META+EXTRACTED-SYN-QUERIES-trec.txt           \t\tmap 0.3133\t ndcg 0.4871\t ndcg_cut_5 0.3581\t ndcg_cut_10 0.3801\t map_cut_5 0.2101\t map_cut_10 0.2542\t set_recall 0.6905\t\n",
      "LMD-META+EXTRACTED-TREC-QUERIES-trec.txt          \t\tmap 0.1862\t ndcg 0.3498\t ndcg_cut_5 0.1886\t ndcg_cut_10 0.2198\t map_cut_5 0.1021\t map_cut_10 0.1337\t set_recall 0.6720\t\n",
      "LMD-META-ONLY-ALL-QUERIES-trec.txt                \t\tmap 0.4240\t ndcg 0.5756\t ndcg_cut_5 0.4632\t ndcg_cut_10 0.4797\t map_cut_5 0.2734\t map_cut_10 0.3517\t set_recall 0.7706\t\n",
      "LMD-META-ONLY-SYN-QUERIES-trec.txt                \t\tmap 0.4683\t ndcg 0.6267\t ndcg_cut_5 0.5317\t ndcg_cut_10 0.5357\t map_cut_5 0.3093\t map_cut_10 0.3897\t set_recall 0.7863\t\n",
      "LMD-META-ONLY-TREC-QUERIES-trec.txt               \t\tmap 0.3800\t ndcg 0.5247\t ndcg_cut_5 0.3951\t ndcg_cut_10 0.4239\t map_cut_5 0.2377\t map_cut_10 0.3138\t set_recall 0.7549\t\n"
     ]
    }
   ],
   "source": [
    "for file in files:\n",
    "    file_path = f\"{trec_output_folder}/{file}\"\n",
    "    res = get_metrics(file_path)\n",
    "    res_string = f\" \".join(f\"{key} {value}\\t\" for key, value in res.items())\n",
    "    print(f\"{file:<50}\\t\\t{res_string}\")"
   ]
  }
 ],
 "metadata": {
  "kernelspec": {
   "display_name": "base",
   "language": "python",
   "name": "python3"
  },
  "language_info": {
   "codemirror_mode": {
    "name": "ipython",
    "version": 3
   },
   "file_extension": ".py",
   "mimetype": "text/x-python",
   "name": "python",
   "nbconvert_exporter": "python",
   "pygments_lexer": "ipython3",
   "version": "3.9.13"
  },
  "orig_nbformat": 4
 },
 "nbformat": 4,
 "nbformat_minor": 2
}
