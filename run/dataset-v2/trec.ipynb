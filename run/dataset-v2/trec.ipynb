{
 "cells": [
  {
   "attachments": {},
   "cell_type": "markdown",
   "metadata": {},
   "source": [
    "# TREC analyis\n",
    "\n",
    "Generates the TREC output files for each run cotnained in the input folder"
   ]
  },
  {
   "cell_type": "code",
   "execution_count": 1,
   "metadata": {},
   "outputs": [],
   "source": [
    "import os"
   ]
  },
  {
   "cell_type": "code",
   "execution_count": 2,
   "metadata": {},
   "outputs": [],
   "source": [
    "trec_executable = \"../../../trec_eval/trec_eval\"    # path to the TREC executable\n",
    "qurels_file_path = \"../../queries/qrels.txt\"        # path to the qrels file\n",
    "run_output_folder = \"output/\"                       # folder that contains the output of the runs\n",
    "trec_output_folder = \"trec/\"                        # folder that will contain the TREC output "
   ]
  },
  {
   "cell_type": "code",
   "execution_count": 4,
   "metadata": {},
   "outputs": [],
   "source": [
    "output_run = os.listdir(run_output_folder)"
   ]
  },
  {
   "cell_type": "code",
   "execution_count": 5,
   "metadata": {},
   "outputs": [],
   "source": [
    "trec_cmd = f\"{trec_executable} -m all_trec {qurels_file_path}\""
   ]
  },
  {
   "cell_type": "code",
   "execution_count": 6,
   "metadata": {},
   "outputs": [],
   "source": [
    "shell_commands = list()\n",
    "trec_output_files = list()\n",
    "\n",
    "for file in output_run:\n",
    "    trec_output_file = file.replace(\"output\", \"trec\")\n",
    "    cmd = f\"{trec_cmd} {run_output_folder}/{file} > {trec_output_folder}/{trec_output_file}\"\n",
    "\n",
    "    trec_output_files.append(trec_output_file)\n",
    "    shell_commands.append(cmd)\n"
   ]
  },
  {
   "cell_type": "code",
   "execution_count": 7,
   "metadata": {},
   "outputs": [],
   "source": [
    "for cmd in shell_commands:\n",
    "    os.system(cmd)"
   ]
  }
 ],
 "metadata": {
  "kernelspec": {
   "display_name": "base",
   "language": "python",
   "name": "python3"
  },
  "language_info": {
   "codemirror_mode": {
    "name": "ipython",
    "version": 3
   },
   "file_extension": ".py",
   "mimetype": "text/x-python",
   "name": "python",
   "nbconvert_exporter": "python",
   "pygments_lexer": "ipython3",
   "version": "3.9.13"
  },
  "orig_nbformat": 4
 },
 "nbformat": 4,
 "nbformat_minor": 2
}
