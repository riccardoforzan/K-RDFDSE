{
 "cells": [
  {
   "cell_type": "code",
   "execution_count": 1,
   "metadata": {},
   "outputs": [],
   "source": [
    "import os\n",
    "import re"
   ]
  },
  {
   "cell_type": "code",
   "execution_count": 2,
   "metadata": {},
   "outputs": [],
   "source": [
    "trec_output_folder = \"trec/\""
   ]
  },
  {
   "cell_type": "code",
   "execution_count": 3,
   "metadata": {},
   "outputs": [],
   "source": [
    "files = os.listdir(trec_output_folder)\n",
    "files.sort()"
   ]
  },
  {
   "cell_type": "code",
   "execution_count": 4,
   "metadata": {},
   "outputs": [],
   "source": [
    "measurements = [\"ndcg_cut_5\", \"ndcg_cut_10\", \"map_cut_5\", \"map_cut_10\", \"ndcg\", \"map\" ,\"set_recall\"]\n",
    "\n",
    "def get_metrics(file_path: str)->dict:\n",
    "    d = dict()\n",
    "    with open(file_path) as f:\n",
    "        for line in f:\n",
    "            for m in measurements:\n",
    "                if re.match(f\"{m}\\s\", line):\n",
    "                    d[m] = line.split()[-1]\n",
    "    return d\n"
   ]
  },
  {
   "cell_type": "code",
   "execution_count": 11,
   "metadata": {},
   "outputs": [
    {
     "name": "stdout",
     "output_type": "stream",
     "text": [
      "BM25-EXTRACTED-ONLY-ALL-QUERIES-trec.txt          \t\tmap 0.1066\t ndcg 0.1955\t ndcg_cut_5 0.1263\t ndcg_cut_10 0.1383\t map_cut_5 0.0724\t map_cut_10 0.0880\t set_recall 0.3338\t\n",
      "BM25-EXTRACTED-ONLY-SYN-QUERIES-trec.txt          \t\tmap 0.1291\t ndcg 0.2376\t ndcg_cut_5 0.1552\t ndcg_cut_10 0.1739\t map_cut_5 0.0832\t map_cut_10 0.1052\t set_recall 0.3828\t\n",
      "BM25-EXTRACTED-ONLY-TREC-QUERIES-trec.txt         \t\tmap 0.0850\t ndcg 0.1552\t ndcg_cut_5 0.0987\t ndcg_cut_10 0.1043\t map_cut_5 0.0621\t map_cut_10 0.0716\t set_recall 0.2870\t\n",
      "BM25-META+EXTRACTED-ALL-QUERIES-trec.txt          \t\tmap 0.3695\t ndcg 0.5421\t ndcg_cut_5 0.3704\t ndcg_cut_10 0.4099\t map_cut_5 0.2051\t map_cut_10 0.2752\t set_recall 0.8332\t\n",
      "BM25-META+EXTRACTED-SYN-QUERIES-trec.txt          \t\tmap 0.4425\t ndcg 0.6192\t ndcg_cut_5 0.4633\t ndcg_cut_10 0.4981\t map_cut_5 0.2587\t map_cut_10 0.3397\t set_recall 0.8522\t\n",
      "BM25-META+EXTRACTED-TREC-QUERIES-trec.txt         \t\tmap 0.2997\t ndcg 0.4683\t ndcg_cut_5 0.2814\t ndcg_cut_10 0.3255\t map_cut_5 0.1538\t map_cut_10 0.2135\t set_recall 0.8150\t\n",
      "BM25-META-ONLY-ALL-QUERIES-trec.txt               \t\tmap 0.4682\t ndcg 0.6113\t ndcg_cut_5 0.5164\t ndcg_cut_10 0.5330\t map_cut_5 0.2925\t map_cut_10 0.3899\t set_recall 0.7919\t\n",
      "BM25-META-ONLY-SYN-QUERIES-trec.txt               \t\tmap 0.5333\t ndcg 0.6853\t ndcg_cut_5 0.6130\t ndcg_cut_10 0.6128\t map_cut_5 0.3434\t map_cut_10 0.4469\t set_recall 0.8280\t\n",
      "BM25-META-ONLY-TREC-QUERIES-trec.txt              \t\tmap 0.4035\t ndcg 0.5376\t ndcg_cut_5 0.4201\t ndcg_cut_10 0.4535\t map_cut_5 0.2417\t map_cut_10 0.3331\t set_recall 0.7560\t\n",
      "CS-EXTRACTED-ONLY-ALL-QUERIES-trec.txt            \t\tmap 0.1023\t ndcg 0.2004\t ndcg_cut_5 0.1280\t ndcg_cut_10 0.1362\t map_cut_5 0.0667\t map_cut_10 0.0789\t set_recall 0.3341\t\n",
      "CS-EXTRACTED-ONLY-SYN-QUERIES-trec.txt            \t\tmap 0.1223\t ndcg 0.2364\t ndcg_cut_5 0.1524\t ndcg_cut_10 0.1637\t map_cut_5 0.0796\t map_cut_10 0.0934\t set_recall 0.3746\t\n",
      "CS-EXTRACTED-ONLY-TREC-QUERIES-trec.txt           \t\tmap 0.0831\t ndcg 0.1660\t ndcg_cut_5 0.1047\t ndcg_cut_10 0.1100\t map_cut_5 0.0543\t map_cut_10 0.0650\t set_recall 0.2953\t\n",
      "CS-META+EXTRACTED-ALL-QUERIES-trec.txt            \t\tmap 0.4502\t ndcg 0.5948\t ndcg_cut_5 0.4751\t ndcg_cut_10 0.5042\t map_cut_5 0.2691\t map_cut_10 0.3667\t set_recall 0.8098\t\n",
      "CS-META+EXTRACTED-SYN-QUERIES-trec.txt            \t\tmap 0.5109\t ndcg 0.6664\t ndcg_cut_5 0.5616\t ndcg_cut_10 0.5755\t map_cut_5 0.3114\t map_cut_10 0.4142\t set_recall 0.8478\t\n",
      "CS-META+EXTRACTED-TREC-QUERIES-trec.txt           \t\tmap 0.3922\t ndcg 0.5263\t ndcg_cut_5 0.3925\t ndcg_cut_10 0.4359\t map_cut_5 0.2286\t map_cut_10 0.3213\t set_recall 0.7735\t\n",
      "CS-META-ONLY-ALL-QUERIES-trec.txt                 \t\tmap 0.4250\t ndcg 0.5655\t ndcg_cut_5 0.4694\t ndcg_cut_10 0.4839\t map_cut_5 0.2636\t map_cut_10 0.3507\t set_recall 0.7539\t\n",
      "CS-META-ONLY-SYN-QUERIES-trec.txt                 \t\tmap 0.4723\t ndcg 0.6269\t ndcg_cut_5 0.5408\t ndcg_cut_10 0.5443\t map_cut_5 0.2960\t map_cut_10 0.3869\t set_recall 0.7941\t\n",
      "CS-META-ONLY-TREC-QUERIES-trec.txt                \t\tmap 0.3780\t ndcg 0.5045\t ndcg_cut_5 0.3983\t ndcg_cut_10 0.4236\t map_cut_5 0.2314\t map_cut_10 0.3147\t set_recall 0.7138\t\n",
      "LMD-EXTRACTED-ONLY-ALL-QUERIES-trec.txt           \t\tmap 0.1224\t ndcg 0.2301\t ndcg_cut_5 0.1481\t ndcg_cut_10 0.1624\t map_cut_5 0.0799\t map_cut_10 0.0992\t set_recall 0.3901\t\n",
      "LMD-EXTRACTED-ONLY-SYN-QUERIES-trec.txt           \t\tmap 0.1550\t ndcg 0.2827\t ndcg_cut_5 0.1989\t ndcg_cut_10 0.2102\t map_cut_5 0.1028\t map_cut_10 0.1270\t set_recall 0.4424\t\n",
      "LMD-EXTRACTED-ONLY-TREC-QUERIES-trec.txt          \t\tmap 0.0913\t ndcg 0.1797\t ndcg_cut_5 0.0994\t ndcg_cut_10 0.1166\t map_cut_5 0.0580\t map_cut_10 0.0726\t set_recall 0.3401\t\n",
      "LMD-META+EXTRACTED-ALL-QUERIES-trec.txt           \t\tmap 0.2515\t ndcg 0.4200\t ndcg_cut_5 0.2775\t ndcg_cut_10 0.2997\t map_cut_5 0.1590\t map_cut_10 0.1952\t set_recall 0.6811\t\n",
      "LMD-META+EXTRACTED-SYN-QUERIES-trec.txt           \t\tmap 0.3127\t ndcg 0.4871\t ndcg_cut_5 0.3608\t ndcg_cut_10 0.3783\t map_cut_5 0.2102\t map_cut_10 0.2529\t set_recall 0.6898\t\n",
      "LMD-META+EXTRACTED-TREC-QUERIES-trec.txt          \t\tmap 0.1929\t ndcg 0.3559\t ndcg_cut_5 0.1979\t ndcg_cut_10 0.2244\t map_cut_5 0.1100\t map_cut_10 0.1399\t set_recall 0.6727\t\n",
      "LMD-META-ONLY-ALL-QUERIES-trec.txt                \t\tmap 0.4240\t ndcg 0.5756\t ndcg_cut_5 0.4632\t ndcg_cut_10 0.4797\t map_cut_5 0.2734\t map_cut_10 0.3517\t set_recall 0.7706\t\n",
      "LMD-META-ONLY-SYN-QUERIES-trec.txt                \t\tmap 0.4683\t ndcg 0.6267\t ndcg_cut_5 0.5317\t ndcg_cut_10 0.5357\t map_cut_5 0.3093\t map_cut_10 0.3897\t set_recall 0.7863\t\n",
      "LMD-META-ONLY-TREC-QUERIES-trec.txt               \t\tmap 0.3800\t ndcg 0.5247\t ndcg_cut_5 0.3951\t ndcg_cut_10 0.4239\t map_cut_5 0.2377\t map_cut_10 0.3138\t set_recall 0.7549\t\n"
     ]
    }
   ],
   "source": [
    "for file in files:\n",
    "    file_path = f\"{trec_output_folder}/{file}\"\n",
    "    res = get_metrics(file_path)\n",
    "    res_string = f\" \".join(f\"{key} {value}\\t\" for key, value in res.items())\n",
    "    print(f\"{file:<50}\\t\\t{res_string}\")"
   ]
  }
 ],
 "metadata": {
  "kernelspec": {
   "display_name": "base",
   "language": "python",
   "name": "python3"
  },
  "language_info": {
   "codemirror_mode": {
    "name": "ipython",
    "version": 3
   },
   "file_extension": ".py",
   "mimetype": "text/x-python",
   "name": "python",
   "nbconvert_exporter": "python",
   "pygments_lexer": "ipython3",
   "version": "3.9.13"
  },
  "orig_nbformat": 4
 },
 "nbformat": 4,
 "nbformat_minor": 2
}
